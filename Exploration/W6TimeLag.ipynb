{
 "cells": [
  {
   "cell_type": "code",
   "execution_count": null,
   "metadata": {},
   "outputs": [],
   "source": [
    "import json\n",
    "import numpy as np\n",
    "from fair.constants import molwt\n",
    "from fair.forcing.ghg import etminan, meinshausen\n",
    "from scipy.interpolate import interp1d\n",
    "from scipy.optimize import curve_fit\n",
    "import scipy.stats as sty\n",
    "import random\n",
    "import pandas as pd\n",
    "from tqdm import tqdm\n",
    "import random\n",
    "import os\n",
    "\n",
    "from ar6.utils import check_and_download, mkdir_p\n",
    "from ar6.utils.statistics import weighted_percentile\n",
    "from ar6.utils.h5 import *\n",
    "from ar6.utils import mkdir_p\n",
    "from ar6.constants.gases import ghg_to_rcmip_names\n",
    "from ar6.forcing.aerosol import ghan, aerocom_n\n",
    "from ar6.forcing.ozone import eesc\n",
    "from ar6.constants.gases import rcmip_to_ghg_names, ghg_to_rcmip_names, ods_species, radeff\n",
    "from multiprocessing import Pool\n",
    "\n",
    "from ar6.twolayermodel import TwoLayerModel\n",
    "from ar6.constants import NINETY_TO_ONESIGMA\n",
    "\n",
    "import matplotlib.pyplot as plt\n",
    "import json"
   ]
  },
  {
   "cell_type": "markdown",
   "metadata": {},
   "source": [
    "#  13/2/2023: Oscillatory triangles\n",
    "\n",
    "This week we will be looking at top hat and triangular forcing in more depth. \n",
    "\n",
    "We want to get a feel for the the non-instantaneous response of the deep sea. The lag, not in signal transmission, but in response. We want to develop a better feeling for this. We can also then compare with analytical functions...\n",
    "\n",
    "So plan:\n",
    "1.   positive followed by negative triangular forcing, compare with meeting notes\n",
    "1.   top hat forcing of widths 5,50,200 years (compare different widths to fast vs recalcintrant time components)\n",
    "1.   triangular forcing of widths 5,50,200 years\n",
    "1.   look at analytical solution to step, extend to top hat?\n",
    "1.   oscillatory tophat forcing of widths 5,50,200 years (adjust so same wavelength as pulsed forcing )\n",
    "1.   link analytical expression to what we see \n",
    "1.   look at analytical solution triangular.\n",
    "1.   oscillatory triangular forcing of widths 5,50,200 years (adjust so same wavelength as pulsed forcing )\n",
    "1.   link analytical expression to what we see \n",
    "1.   Rerun everything with varying parameters. See effect on lag.\n",
    "\n"
   ]
  },
  {
   "cell_type": "markdown",
   "metadata": {},
   "source": [
    "### 1)Positive followed by negative triangular forcing, compare with meeting notes\n",
    "For this we will have a wavelength of 200 years. See signal below"
   ]
  },
  {
   "cell_type": "code",
   "execution_count": null,
   "metadata": {},
   "outputs": [],
   "source": []
  }
 ],
 "metadata": {
  "language_info": {
   "name": "python"
  },
  "orig_nbformat": 4
 },
 "nbformat": 4,
 "nbformat_minor": 2
}
